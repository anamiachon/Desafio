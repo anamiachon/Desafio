{
  "nbformat": 4,
  "nbformat_minor": 0,
  "metadata": {
    "colab": {
      "name": "Desafio_Ana_Claudia.ipynb",
      "provenance": [],
      "collapsed_sections": []
    },
    "kernelspec": {
      "name": "python3",
      "display_name": "Python 3"
    },
    "language_info": {
      "name": "python"
    }
  },
  "cells": [
    {
      "cell_type": "code",
      "execution_count": 1,
      "metadata": {
        "id": "N44IMlV5JuXL"
      },
      "outputs": [],
      "source": [
        "# Importar bibliotecas\n",
        "import pandas as pd\n",
        "import random\n",
        "import datetime\n",
        "import calendar"
      ]
    },
    {
      "cell_type": "markdown",
      "source": [
        "## Desafio I"
      ],
      "metadata": {
        "id": "97z5PYp1KAck"
      }
    },
    {
      "cell_type": "code",
      "source": [
        "#Recebe data inicial, final e minutos (incremento de tempo) para gerar lista com o intervalo de tempo\n",
        "def gera_data(inicio, fim, minutos):\n",
        "  #transforma data\n",
        "  inicio = pd.to_datetime(inicio)\n",
        "  fim = pd.to_datetime(fim)\n",
        "  \n",
        "  datas = []\n",
        "\n",
        "  while inicio<= fim:\n",
        "    datas.append(inicio)\n",
        "    inicio += datetime.timedelta(minutes=minutos)\n",
        "\n",
        "  return datas"
      ],
      "metadata": {
        "id": "NRqk587HMKZq"
      },
      "execution_count": 2,
      "outputs": []
    },
    {
      "cell_type": "code",
      "source": [
        "# Recebe lista com todos os tipos de frutas e a lista de de datas. Retorna DataFrame as fruta escolhidas de forma aleatóri\n",
        "def lista_aleatória_frutas(frutas, datas):\n",
        "  total_data = len(datas)\n",
        "  frutas_selecionadas = []\n",
        "\n",
        "  for i in range(total_data):\n",
        "    # escolhe a fruta de forma aleatória, utilizando a função random()\n",
        "    index = int(random.random()*len(frutas))\n",
        "    fruta_escolhida = frutas[index]\n",
        "    frutas_selecionadas.append(fruta_escolhida)\n",
        "  \n",
        "  return pd.DataFrame({'Data_horário':datas,\n",
        "                       'Fruta':frutas_selecionadas})"
      ],
      "metadata": {
        "id": "DiMubo_9PPds"
      },
      "execution_count": 3,
      "outputs": []
    },
    {
      "cell_type": "code",
      "source": [
        "random.seed(23)\n",
        "\n",
        "#Cria lista entre 01/06/22 12:00:00 - 15/06/22 23:00:00 com intervalos de 20 min\n",
        "datas = gera_data('2022-06-01 12:00:00', '2022-06-15 23:00:00', 20)\n",
        "\n",
        "# Lista de todas as frutas disponíveis\n",
        "frutas = ['abacate', 'abacaxi', 'banana', 'goiaba', 'laranja', 'manga', 'melancia', 'pêssego', 'tangerina', 'uva']\n",
        "\n",
        "#Gera DataFrame com as frutas selecionadas aleatoriamente para as datas criadas\n",
        "df1 = lista_aleatória_frutas(frutas, datas)\n",
        "df1"
      ],
      "metadata": {
        "colab": {
          "base_uri": "https://localhost:8080/",
          "height": 424
        },
        "id": "fDYTRaeRKh3b",
        "outputId": "5184386d-4f28-479f-a800-38615275d128"
      },
      "execution_count": 4,
      "outputs": [
        {
          "output_type": "execute_result",
          "data": {
            "text/plain": [
              "            Data_horário      Fruta\n",
              "0    2022-06-01 12:00:00        uva\n",
              "1    2022-06-01 12:20:00        uva\n",
              "2    2022-06-01 12:40:00  tangerina\n",
              "3    2022-06-01 13:00:00    abacate\n",
              "4    2022-06-01 13:20:00      manga\n",
              "...                  ...        ...\n",
              "1037 2022-06-15 21:40:00   melancia\n",
              "1038 2022-06-15 22:00:00   melancia\n",
              "1039 2022-06-15 22:20:00    pêssego\n",
              "1040 2022-06-15 22:40:00     goiaba\n",
              "1041 2022-06-15 23:00:00     goiaba\n",
              "\n",
              "[1042 rows x 2 columns]"
            ],
            "text/html": [
              "\n",
              "  <div id=\"df-03f33f0b-e64c-4c0b-89d3-2b16a03d82ef\">\n",
              "    <div class=\"colab-df-container\">\n",
              "      <div>\n",
              "<style scoped>\n",
              "    .dataframe tbody tr th:only-of-type {\n",
              "        vertical-align: middle;\n",
              "    }\n",
              "\n",
              "    .dataframe tbody tr th {\n",
              "        vertical-align: top;\n",
              "    }\n",
              "\n",
              "    .dataframe thead th {\n",
              "        text-align: right;\n",
              "    }\n",
              "</style>\n",
              "<table border=\"1\" class=\"dataframe\">\n",
              "  <thead>\n",
              "    <tr style=\"text-align: right;\">\n",
              "      <th></th>\n",
              "      <th>Data_horário</th>\n",
              "      <th>Fruta</th>\n",
              "    </tr>\n",
              "  </thead>\n",
              "  <tbody>\n",
              "    <tr>\n",
              "      <th>0</th>\n",
              "      <td>2022-06-01 12:00:00</td>\n",
              "      <td>uva</td>\n",
              "    </tr>\n",
              "    <tr>\n",
              "      <th>1</th>\n",
              "      <td>2022-06-01 12:20:00</td>\n",
              "      <td>uva</td>\n",
              "    </tr>\n",
              "    <tr>\n",
              "      <th>2</th>\n",
              "      <td>2022-06-01 12:40:00</td>\n",
              "      <td>tangerina</td>\n",
              "    </tr>\n",
              "    <tr>\n",
              "      <th>3</th>\n",
              "      <td>2022-06-01 13:00:00</td>\n",
              "      <td>abacate</td>\n",
              "    </tr>\n",
              "    <tr>\n",
              "      <th>4</th>\n",
              "      <td>2022-06-01 13:20:00</td>\n",
              "      <td>manga</td>\n",
              "    </tr>\n",
              "    <tr>\n",
              "      <th>...</th>\n",
              "      <td>...</td>\n",
              "      <td>...</td>\n",
              "    </tr>\n",
              "    <tr>\n",
              "      <th>1037</th>\n",
              "      <td>2022-06-15 21:40:00</td>\n",
              "      <td>melancia</td>\n",
              "    </tr>\n",
              "    <tr>\n",
              "      <th>1038</th>\n",
              "      <td>2022-06-15 22:00:00</td>\n",
              "      <td>melancia</td>\n",
              "    </tr>\n",
              "    <tr>\n",
              "      <th>1039</th>\n",
              "      <td>2022-06-15 22:20:00</td>\n",
              "      <td>pêssego</td>\n",
              "    </tr>\n",
              "    <tr>\n",
              "      <th>1040</th>\n",
              "      <td>2022-06-15 22:40:00</td>\n",
              "      <td>goiaba</td>\n",
              "    </tr>\n",
              "    <tr>\n",
              "      <th>1041</th>\n",
              "      <td>2022-06-15 23:00:00</td>\n",
              "      <td>goiaba</td>\n",
              "    </tr>\n",
              "  </tbody>\n",
              "</table>\n",
              "<p>1042 rows × 2 columns</p>\n",
              "</div>\n",
              "      <button class=\"colab-df-convert\" onclick=\"convertToInteractive('df-03f33f0b-e64c-4c0b-89d3-2b16a03d82ef')\"\n",
              "              title=\"Convert this dataframe to an interactive table.\"\n",
              "              style=\"display:none;\">\n",
              "        \n",
              "  <svg xmlns=\"http://www.w3.org/2000/svg\" height=\"24px\"viewBox=\"0 0 24 24\"\n",
              "       width=\"24px\">\n",
              "    <path d=\"M0 0h24v24H0V0z\" fill=\"none\"/>\n",
              "    <path d=\"M18.56 5.44l.94 2.06.94-2.06 2.06-.94-2.06-.94-.94-2.06-.94 2.06-2.06.94zm-11 1L8.5 8.5l.94-2.06 2.06-.94-2.06-.94L8.5 2.5l-.94 2.06-2.06.94zm10 10l.94 2.06.94-2.06 2.06-.94-2.06-.94-.94-2.06-.94 2.06-2.06.94z\"/><path d=\"M17.41 7.96l-1.37-1.37c-.4-.4-.92-.59-1.43-.59-.52 0-1.04.2-1.43.59L10.3 9.45l-7.72 7.72c-.78.78-.78 2.05 0 2.83L4 21.41c.39.39.9.59 1.41.59.51 0 1.02-.2 1.41-.59l7.78-7.78 2.81-2.81c.8-.78.8-2.07 0-2.86zM5.41 20L4 18.59l7.72-7.72 1.47 1.35L5.41 20z\"/>\n",
              "  </svg>\n",
              "      </button>\n",
              "      \n",
              "  <style>\n",
              "    .colab-df-container {\n",
              "      display:flex;\n",
              "      flex-wrap:wrap;\n",
              "      gap: 12px;\n",
              "    }\n",
              "\n",
              "    .colab-df-convert {\n",
              "      background-color: #E8F0FE;\n",
              "      border: none;\n",
              "      border-radius: 50%;\n",
              "      cursor: pointer;\n",
              "      display: none;\n",
              "      fill: #1967D2;\n",
              "      height: 32px;\n",
              "      padding: 0 0 0 0;\n",
              "      width: 32px;\n",
              "    }\n",
              "\n",
              "    .colab-df-convert:hover {\n",
              "      background-color: #E2EBFA;\n",
              "      box-shadow: 0px 1px 2px rgba(60, 64, 67, 0.3), 0px 1px 3px 1px rgba(60, 64, 67, 0.15);\n",
              "      fill: #174EA6;\n",
              "    }\n",
              "\n",
              "    [theme=dark] .colab-df-convert {\n",
              "      background-color: #3B4455;\n",
              "      fill: #D2E3FC;\n",
              "    }\n",
              "\n",
              "    [theme=dark] .colab-df-convert:hover {\n",
              "      background-color: #434B5C;\n",
              "      box-shadow: 0px 1px 3px 1px rgba(0, 0, 0, 0.15);\n",
              "      filter: drop-shadow(0px 1px 2px rgba(0, 0, 0, 0.3));\n",
              "      fill: #FFFFFF;\n",
              "    }\n",
              "  </style>\n",
              "\n",
              "      <script>\n",
              "        const buttonEl =\n",
              "          document.querySelector('#df-03f33f0b-e64c-4c0b-89d3-2b16a03d82ef button.colab-df-convert');\n",
              "        buttonEl.style.display =\n",
              "          google.colab.kernel.accessAllowed ? 'block' : 'none';\n",
              "\n",
              "        async function convertToInteractive(key) {\n",
              "          const element = document.querySelector('#df-03f33f0b-e64c-4c0b-89d3-2b16a03d82ef');\n",
              "          const dataTable =\n",
              "            await google.colab.kernel.invokeFunction('convertToInteractive',\n",
              "                                                     [key], {});\n",
              "          if (!dataTable) return;\n",
              "\n",
              "          const docLinkHtml = 'Like what you see? Visit the ' +\n",
              "            '<a target=\"_blank\" href=https://colab.research.google.com/notebooks/data_table.ipynb>data table notebook</a>'\n",
              "            + ' to learn more about interactive tables.';\n",
              "          element.innerHTML = '';\n",
              "          dataTable['output_type'] = 'display_data';\n",
              "          await google.colab.output.renderOutput(dataTable, element);\n",
              "          const docLink = document.createElement('div');\n",
              "          docLink.innerHTML = docLinkHtml;\n",
              "          element.appendChild(docLink);\n",
              "        }\n",
              "      </script>\n",
              "    </div>\n",
              "  </div>\n",
              "  "
            ]
          },
          "metadata": {},
          "execution_count": 4
        }
      ]
    },
    {
      "cell_type": "code",
      "source": [
        "df1.to_csv('Planilha_frutas_aleatórias.csv',sep=';')"
      ],
      "metadata": {
        "id": "QD0MiP35Svrd"
      },
      "execution_count": 5,
      "outputs": []
    },
    {
      "cell_type": "markdown",
      "source": [
        "## Desafio II"
      ],
      "metadata": {
        "id": "m_bFM5H-KaAW"
      }
    },
    {
      "cell_type": "code",
      "source": [
        "def getFruta(dia, mes, ano, hora, minutos):\n",
        "  #abre o csv\n",
        "  df2 = pd.read_csv('Planilha dieta de frutas.csv',sep=';')\n",
        "  \n",
        "  #tranforma as datas em datetime\n",
        "  df2['Data_horario'] = pd.to_datetime(df2['Data_horario'])\n",
        "  \n",
        "  #transforma todos os dados de entrada em inteiros\n",
        "  dia, mes, ano, hora, minutos = int(dia), int(mes), int(ano), int(hora), int(minutos)\n",
        "  \n",
        "  # verifica mês e ano\n",
        "  if (1 <= mes <= 12) & (pd.Timestamp.min.year <= ano <= pd.Timestamp.max.year):\n",
        "  \n",
        "    if (1 <= dia <= calendar.monthrange(ano,mes)[1]):# verifica dia\n",
        "      data = datetime.datetime(year=ano, month=mes, day=dia, hour=hora, minute=minutos)\n",
        "      fruta = df2.loc[df2['Data_horario'] == data].reset_index()\n",
        "    \n",
        "      if fruta.empty:\n",
        "        prox_fruta = df2.loc[(df2['Data_horario'] >= data) & ((df2['Data_horario'] <= data + datetime.timedelta(minutes=20)))].reset_index()\n",
        "        if prox_fruta.empty:\n",
        "          print('Não há uma dieta de frutas para o horário e data informados')\n",
        "\n",
        "        else:\n",
        "          print('Você não tem que comer nenhuma fruta. Próxima fruta será uma ', str(prox_fruta.loc[0,'Frutas']),' em ', prox_fruta.loc[0,'Data_horario'].strftime(\"%d/%m/%Y %H:%M\"))\n",
        "\n",
        "      else:\n",
        "        print('Você deve comer uma ', fruta.loc[0,'Frutas'])\n",
        "\n",
        "    else:\n",
        "      print('Dia inválido')\n",
        "  \n",
        "  else:\n",
        "    print('Dia inválido')\n",
        " "
      ],
      "metadata": {
        "id": "Ic8fxlQCNy-5"
      },
      "execution_count": 6,
      "outputs": []
    },
    {
      "cell_type": "code",
      "source": [
        "getFruta('01','06','2022','12','20')"
      ],
      "metadata": {
        "colab": {
          "base_uri": "https://localhost:8080/"
        },
        "id": "RI5xEesZUSP8",
        "outputId": "caa61c38-39d7-4f51-b93f-2d1c0efd6f62"
      },
      "execution_count": 7,
      "outputs": [
        {
          "output_type": "stream",
          "name": "stdout",
          "text": [
            "Você deve comer uma  manga\n"
          ]
        }
      ]
    },
    {
      "cell_type": "code",
      "source": [
        "getFruta('01','06','2022','12','30')"
      ],
      "metadata": {
        "colab": {
          "base_uri": "https://localhost:8080/"
        },
        "id": "rafcJ7cGq2xt",
        "outputId": "9cbb207e-4f63-4f2f-9736-c52955ca7a9a"
      },
      "execution_count": 8,
      "outputs": [
        {
          "output_type": "stream",
          "name": "stdout",
          "text": [
            "Você não tem que comer nenhuma fruta. Próxima fruta será uma  banana  em  01/06/2022 12:40\n"
          ]
        }
      ]
    },
    {
      "cell_type": "code",
      "source": [
        "getFruta('25','05','2022','12','30')"
      ],
      "metadata": {
        "colab": {
          "base_uri": "https://localhost:8080/"
        },
        "id": "5m1b-Q9Oq8GL",
        "outputId": "196dc16a-5d67-4cf6-d6df-48b546a2e6ba"
      },
      "execution_count": 9,
      "outputs": [
        {
          "output_type": "stream",
          "name": "stdout",
          "text": [
            "Não há uma dieta de frutas para o horário e data informados\n"
          ]
        }
      ]
    },
    {
      "cell_type": "code",
      "source": [
        "getFruta('35','06','2022','12','30')"
      ],
      "metadata": {
        "colab": {
          "base_uri": "https://localhost:8080/"
        },
        "id": "bNBUqqFXrMJV",
        "outputId": "32e450ad-7ce8-4192-f987-4ec17a9431b5"
      },
      "execution_count": 10,
      "outputs": [
        {
          "output_type": "stream",
          "name": "stdout",
          "text": [
            "Dia inválido\n"
          ]
        }
      ]
    }
  ]
}